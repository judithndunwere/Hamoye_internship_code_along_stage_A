{
 "cells": [
  {
   "cell_type": "code",
   "execution_count": null,
   "metadata": {},
   "outputs": [],
   "source": [
    "import pandas as pd \n",
    "import seaborn as sns\n",
    "import matplotlib.pyplot as plt"
   ]
  },
  {
   "cell_type": "code",
   "execution_count": null,
   "metadata": {},
   "outputs": [],
   "source": [
    "df = pd.read_csv(\"https://github.com/HamoyeHQ/HDSC-Introduction-to-Python-for-machine-learning/files/7768140/FoodBalanceSheets_E_Africa_NOFLAG.csv\", encoding=\"latin-1\")\n",
    "print(\"df_shape:\", df.shape)\n",
    "df.info()\n",
    "df.head()"
   ]
  },
  {
   "cell_type": "code",
   "execution_count": null,
   "metadata": {},
   "outputs": [],
   "source": [
    "#Q1: Total number of unique countries in the dataset\n",
    "df['Area'].nunique()"
   ]
  },
  {
   "cell_type": "code",
   "execution_count": null,
   "metadata": {},
   "outputs": [],
   "source": [
    "#Q2: What type of error does the Code output give?\n",
    "my_tuppy = (1,2,5,8)\n",
    "\n",
    "my_tuppy[2] = 6"
   ]
  },
  {
   "cell_type": "code",
   "execution_count": null,
   "metadata": {},
   "outputs": [],
   "source": [
    "#Q3:  Sum of wine produced in 2015 and 2018 respectively\n",
    "print(\"Sum of wine in 2015:\", df.groupby('Item')[\"Y2015\"].sum()[\"Wine\"])\n",
    "print(\"Sum of wine in 2015:\",df.groupby('Item')[\"Y2018\"].sum()[\"Wine\"])"
   ]
  },
  {
   "cell_type": "markdown",
   "metadata": {},
   "source": [
    "#Q4: A pandas dataframe with dimensions (100,3)has how many features and rows\n",
    "#Ans: 3 features. 100 observations"
   ]
  },
  {
   "cell_type": "code",
   "execution_count": null,
   "metadata": {},
   "outputs": [],
   "source": [
    "#Q5: Output of the code below\n",
    "S = [['him', 'sell'], [90, 28, 43]]\n",
    "\n",
    "S[0][1][1]"
   ]
  },
  {
   "cell_type": "code",
   "execution_count": null,
   "metadata": {},
   "outputs": [],
   "source": [
    "#Q6: Area with the 7th lowest sum in 2017\n",
    "df.groupby('Area')[\"Y2017\"].sum().sort_values(ascending=True).head(7).tail(1)"
   ]
  },
  {
   "cell_type": "code",
   "execution_count": null,
   "metadata": {},
   "outputs": [],
   "source": [
    "#Q7: Assign element 8 to the variable x\n",
    "y = [(2, 4), (7, 8), (1, 5, 9)]\n",
    "x=y[1][1]\n",
    "print(x)"
   ]
  },
  {
   "cell_type": "code",
   "execution_count": null,
   "metadata": {},
   "outputs": [],
   "source": [
    "#Q8: Select elements in italics\n",
    "array  = ([[94, 89, 63], [93, 92, 48], [92, 94, 56]])\n",
    "array[:2,1:]"
   ]
  },
  {
   "cell_type": "code",
   "execution_count": null,
   "metadata": {},
   "outputs": [],
   "source": [
    "#Q9: create a dataframe\n",
    "lst = [[35, 'Portugal', 94], [33, 'Argentina', 93], [30 , 'Brazil', 92]]\n",
    "\n",
    "col = ['Age','Nationality','Overall']\n",
    "new_df=pd.DataFrame(lst, columns=col, index=[1,2,3])\n",
    "new_df"
   ]
  },
  {
   "cell_type": "code",
   "execution_count": null,
   "metadata": {},
   "outputs": [],
   "source": [
    "#Q10: Year with the least correlation\n",
    "pd.DataFrame(\n",
    "    {\n",
    "        \"correlations\" : [df['Element Code'].corr(df[\"Y2014\"]), df['Element Code'].corr(df[\"Y2015\"]), df['Element Code'].corr(df[\"Y2016\"]), df['Element Code'].corr(df[\"Y2017\"])]\n",
    "    }, index=[\"Y2014\", \"Y2015\", \"Y2016\", \"Y2017\"]\n",
    ").reset_index().rename(columns={'index':'years'}).min()\n"
   ]
  },
  {
   "cell_type": "markdown",
   "metadata": {},
   "source": [
    "#Q11: math is a python module"
   ]
  },
  {
   "cell_type": "code",
   "execution_count": null,
   "metadata": {},
   "outputs": [],
   "source": [
    "#Q12: Area with the highest sum\n",
    "df.groupby(\"Area\")[\"Y2017\"].sum().sort_values(ascending=False)"
   ]
  },
  {
   "cell_type": "code",
   "execution_count": null,
   "metadata": {},
   "outputs": [],
   "source": [
    "#Q13: Year with the highest stock variation\n",
    "print(\"year_2014 tock variation:\", df.groupby(\"Element\")[\"Y2014\"].sum()[\"Stock Variation\"])\n",
    "print(\"year_2015 stock variation:\", df.groupby(\"Element\")[\"Y2015\"].sum()[\"Stock Variation\"])\n",
    "print(\"year_2016 stock variation:\", df.groupby(\"Element\")[\"Y2016\"].sum()[\"Stock Variation\"])\n",
    "print(\"year_2017 stock variation:\", df.groupby(\"Element\")[\"Y2017\"].sum()[\"Stock Variation\"])"
   ]
  },
  {
   "cell_type": "markdown",
   "metadata": {},
   "source": [
    "Q14: Set is an unordered data structure in python"
   ]
  },
  {
   "cell_type": "code",
   "execution_count": null,
   "metadata": {},
   "outputs": [],
   "source": [
    "#Q15: code to find rows and columns in python\n",
    "df.shape"
   ]
  },
  {
   "cell_type": "code",
   "execution_count": null,
   "metadata": {},
   "outputs": [],
   "source": [
    "#Q16: Total number of the sum of processing in 2017\n",
    "df.groupby(\"Element\")[\"Y2017\"].sum()[\"Processing\"]"
   ]
  },
  {
   "cell_type": "code",
   "execution_count": null,
   "metadata": {},
   "outputs": [],
   "source": [
    "#Q17: mean and std for year 2017\n",
    "df[\"Y2017\"].describe()"
   ]
  },
  {
   "cell_type": "code",
   "execution_count": null,
   "metadata": {},
   "outputs": [],
   "source": [
    "#Q18: Total protein supply for Madagascar in 2015\n",
    "df_madagascar = df[df[\"Area\"]==\"Madagascar\"]\n",
    "df_madagascar.groupby(\"Element\")[\"Y2015\"].sum()[\"Protein supply quantity (g/capita/day)\"]"
   ]
  },
  {
   "cell_type": "markdown",
   "metadata": {},
   "source": [
    "Q19: df.iloc[] can be used to access element across rows  and columns"
   ]
  },
  {
   "cell_type": "code",
   "execution_count": null,
   "metadata": {},
   "outputs": [],
   "source": [
    "#Q20: Total number of missing data in 2014 to 3d.p\n",
    "#Total number\n",
    "print(\"Number of missing values:\", df.isnull().sum()[\"Y2014\"])\n",
    "\n",
    "#Total percentage\n",
    "print(\"Percentage of missing values:\", round(df.isnull().sum() * 100/ df.shape[0],3)[\"Y2014\"])"
   ]
  }
 ],
 "metadata": {
  "kernelspec": {
   "display_name": "Python 3",
   "language": "python",
   "name": "python3"
  },
  "language_info": {
   "codemirror_mode": {
    "name": "ipython",
    "version": 3
   },
   "file_extension": ".py",
   "mimetype": "text/x-python",
   "name": "python",
   "nbconvert_exporter": "python",
   "pygments_lexer": "ipython3",
   "version": "3.10.6"
  },
  "orig_nbformat": 4
 },
 "nbformat": 4,
 "nbformat_minor": 2
}
